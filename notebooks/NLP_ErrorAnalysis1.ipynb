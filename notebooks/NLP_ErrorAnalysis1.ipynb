{
 "cells": [
  {
   "cell_type": "markdown",
   "metadata": {},
   "source": [
    "# Error Analysis (1)\n",
    "\n",
    "From the previous notebook, you have seen that our current NLP solution does not get 100% correct. Although it is unrealistic to reach that goal, we definitely can make it closer. \n",
    "\n",
    "This notebook will show you how to analysis errors related to name entity recognition, and guide you through step by step to improve the recall. We will talk about how to improve precision tomorrow.\n",
    "\n",
    "## 1. Locate the errors"
   ]
  },
  {
   "cell_type": "code",
   "execution_count": 19,
   "metadata": {
    "collapsed": true
   },
   "outputs": [],
   "source": [
    "#first import libraries\n",
    "import urllib.request\n",
    "import os\n",
    "import codecs\n",
    "import zipfile\n",
    "import pandas as pd\n",
    "from IPython.display import display, HTML,IFrame\n",
    "import sklearn.metrics"
   ]
  },
  {
   "cell_type": "markdown",
   "metadata": {},
   "source": [
    "Reuse the classes and functions that we have created in previous notebook."
   ]
  },
  {
   "cell_type": "code",
   "execution_count": 3,
   "metadata": {
    "collapsed": true
   },
   "outputs": [],
   "source": [
    "class Annotation(object):\n",
    "    def __init__(self):\n",
    "        self.start_index = -1\n",
    "        self.end_index = -1\n",
    "        self.type = ''\n",
    "        self.spanned_text = ''\n",
    "        \n",
    "    # adding this so that pyConText's HTML markup can work seamlessly\n",
    "    def getSpan(self):\n",
    "        return (self.start_index, self.end_index)\n",
    "    \n",
    "    def getCategory(self):\n",
    "        # pyConText graph objects actually expect a list here\n",
    "        return [self.type]\n",
    "\n",
    "class AnnotatedDocument(object):\n",
    "    def __init__(self):\n",
    "        self.text = ''\n",
    "        self.annotations = []\n",
    "        self.positive_label = -1\n",
    "        \n",
    "def read_brat_annotations(lines):\n",
    "    annotations = []\n",
    "    # BRAT FORMAT is:\n",
    "    # NUMBER[TAB]TYPE[SPACE]START_INDEX[SPACE]END_INDEX[SPACE]SPANNED_TEXT\n",
    "    for line in lines:\n",
    "        line = str(line)\n",
    "        tab_tokens = line.split('\\t')\n",
    "        space_tokens = tab_tokens[1].split()\n",
    "        anno = Annotation()\n",
    "        anno.spanned_text = tab_tokens[-1]\n",
    "        anno.type = space_tokens[0]\n",
    "        anno.start_index = int(space_tokens[1])\n",
    "        anno.end_index = int(space_tokens[2])\n",
    "        annotations.append(anno)\n",
    "    return annotations       \n",
    "\n",
    "def mark_text(txt,nodes,colors = {\"name\":\"red\",\"pet\":\"blue\"},default_color=\"black\"):\n",
    "    from pyConTextNLP.display.html import __insert_color\n",
    "    # this function had to be copied and modified from pyConTextNLP.display.html.mark_text \n",
    "    # so that the default_color could be passed through\n",
    "    if not nodes:\n",
    "        return txt\n",
    "    else:\n",
    "        n = nodes.pop(-1)\n",
    "        return mark_text(__insert_color(txt,\n",
    "                                        n.getSpan(),\n",
    "                                        colors.get(n.getCategory()[0],default_color)),\n",
    "                         nodes,\n",
    "                         colors=colors,\n",
    "                         # this was not being passed through \n",
    "                        default_color = default_color)\n",
    "    \n",
    "    \n",
    "    \n",
    "def pneumonia_html_markup(anno_doc):\n",
    "    from pyConTextNLP.display.html import __sort_by_span\n",
    "    # this bit mimics 'mark_document_with_html' from pyConTextNLP.display.html\n",
    "    colors = {}\n",
    "    colors['DOCUMENT_PNEUMONIA_YES'] = 'red'\n",
    "    colors['DOCUMENT_PNEUMONIA_NO'] = 'green'\n",
    "    colors['SPAN_POSITIVE_PNEUMONIA_EVIDENCE'] = 'orange'\n",
    "    default_color = 'red'\n",
    "    html = \"\"\"<p> {0} </p>\"\"\".format(\" \".join([mark_text(anno_doc.text,\n",
    "                                                 __sort_by_span(anno_doc.annotations),\n",
    "                                                 colors=colors,\n",
    "                                                 default_color=default_color)]))\n",
    "    return html"
   ]
  },
  {
   "cell_type": "markdown",
   "metadata": {},
   "source": [
    "Before we get to the errors, first we need to tweek a little bit on the function below: instead of returning a list of values, we need to return the \"*annotated_doc_map*\" where the keys are the document names, and the values are \"*AnnotatedDocument*\"s. Because you may want to see in which documents our prediction got errors"
   ]
  },
  {
   "cell_type": "code",
   "execution_count": 4,
   "metadata": {
    "collapsed": true
   },
   "outputs": [],
   "source": [
    "def read_annotations(archive_file, force_redownload = False):\n",
    "    print('Reading annotations from file : ' + archive_file)\n",
    "    filename = archive_file.split('/')[-1]\n",
    "    \n",
    "    if 'http' in archive_file:\n",
    "        if force_redownload or not os.path.isfile(filename):\n",
    "            print('Downloading remote file : '+ archive_file)\n",
    "            urllib.request.urlretrieve(archive_file, filename)\n",
    "    \n",
    "    annotated_doc_map = {}\n",
    "    \n",
    "    print('Opening local file : ' + filename)\n",
    "    z = zipfile.ZipFile(filename, \"r\")\n",
    "    zinfo = z.namelist()\n",
    "    for name in zinfo:\n",
    "        if name.endswith('.txt') or name.endswith('.ann'):\n",
    "            basename = name.split('.')[0]\n",
    "            if basename not in annotated_doc_map:\n",
    "                annotated_doc_map[basename] = AnnotatedDocument()\n",
    "            anno_doc = annotated_doc_map[basename]\n",
    "            # handle text and BRAT annotation files (.ann) differently\n",
    "            if name.endswith('.txt'):\n",
    "                with z.open(name) as f1:\n",
    "                    anno_doc.text = f1.read().decode('utf8')\n",
    "            else:\n",
    "                with z.open(name) as f1:\n",
    "                    # handle this as utf8 or we get back byte arrays\n",
    "                    anno_doc.annotations = read_brat_annotations(codecs.iterdecode(f1, 'utf8'))\n",
    "                    \n",
    "    # now let's finally assign a 0 or 1 to each document based on whether we see our expected type for the pneumonia label\n",
    "    for key, anno_doc in annotated_doc_map.items():\n",
    "        annos = anno_doc.annotations\n",
    "        anno_doc.positive_label = 0\n",
    "        for anno in annos:\n",
    "            if anno.type == 'DOCUMENT_PNEUMONIA_YES':\n",
    "                anno_doc.positive_label = 1\n",
    "#Note: here is the tweak we need to make                    \n",
    "    return annotated_doc_map"
   ]
  },
  {
   "cell_type": "markdown",
   "metadata": {},
   "source": [
    "Next, we tweak the function **calculate_prediction_metrics** to list the difference--errors, instead of calculate the measurements:\n",
    "\n",
    "Question before we move on:\n",
    "\n",
    "Why we only care *false negatives* for now?\n"
   ]
  },
  {
   "cell_type": "code",
   "execution_count": 5,
   "metadata": {
    "collapsed": true
   },
   "outputs": [],
   "source": [
    "def list_false_negatives(gold_docs, prediction_function):\n",
    "    fn_docs={}\n",
    "    for doc_name, gold_doc in gold_docs.items():\n",
    "        gold_label=gold_doc.positive_label;\n",
    "        pred_label = prediction_function(gold_doc.text)\n",
    "        if gold_label==1 and pred_label==0:\n",
    "            fn_docs[doc_name]=gold_doc            \n",
    "    return fn_docs     \n"
   ]
  },
  {
   "cell_type": "markdown",
   "metadata": {},
   "source": [
    "## 2. Display errors"
   ]
  },
  {
   "cell_type": "markdown",
   "metadata": {},
   "source": [
    "Now we put everything together to display errors:"
   ]
  },
  {
   "cell_type": "code",
   "execution_count": 24,
   "metadata": {
    "collapsed": true
   },
   "outputs": [],
   "source": [
    "class KeywordClassifier(object):\n",
    "    def __init__(self):\n",
    "        self.keywords = set()\n",
    "    def predict(self, text):\n",
    "        prediction = 0\n",
    "        for keyword in self.keywords:\n",
    "            if keyword in text:\n",
    "                prediction = 1\n",
    "        return prediction\n",
    "    \n",
    "keyword_classifier = KeywordClassifier()\n",
    "# let's load in some manual keywords...\n",
    "keyword_classifier.keywords.add('pneumonia')"
   ]
  },
  {
   "cell_type": "code",
   "execution_count": 25,
   "metadata": {},
   "outputs": [
    {
     "name": "stdout",
     "output_type": "stream",
     "text": [
      "Reading annotations from file : pneumonia_brat_full_set1.zip\n",
      "Opening local file : pneumonia_brat_full_set1.zip\n",
      "Total Annotated Documents : 100\n"
     ]
    }
   ],
   "source": [
    "i=0\n",
    "annotated_docs = read_annotations('pneumonia_brat_full_set1.zip')\n",
    "print('Total Annotated Documents : {0}'.format(len(annotated_docs)))\n",
    "\n",
    "fn=list_false_negatives(annotated_docs, keyword_classifier.predict)\n",
    "\n",
    "docs=list(fn.keys());"
   ]
  },
  {
   "cell_type": "markdown",
   "metadata": {},
   "source": [
    "Show one document a time:"
   ]
  },
  {
   "cell_type": "code",
   "execution_count": 26,
   "metadata": {},
   "outputs": [
    {
     "name": "stdout",
     "output_type": "stream",
     "text": [
      "subject_id_8734_hadm_id_8478\n"
     ]
    },
    {
     "data": {
      "text/html": [
       "<p> <br><br><br>     <span style=\"color: red;\">DATE</span>: [**2879-6-10**] 12:52 PM<br>     CHEST (PORTABLE AP)                                             Clip # [**Clip Number (Radiology) 10241**]<br>     Reason: assess for infiltrate                                       <br>     ______________________________________________________________________________<br>     UNDERLYING MEDICAL CONDITION:<br>      47 year old man with fever                                                      <br>     REASON FOR THIS EXAMINATION:<br>      assess for infiltrate                                                           <br>     ______________________________________________________________________________<br>     WET READ: KKXa SAT [**2879-6-10**] 2:20 PM<br>      Evidence of fluid overload.<br>      Left basilar consolidation.<br>     WET READ AUDIT #1 KKXa SAT [**2879-6-10**] 1:37 PM<br>      Evidence of fluid overload.<br>      Possible consolidation at the left base, but the opacity may be due to<br>      technique or overlying soft tissue and PA and lateral will be helpful once pt<br>      condition permits.<br>     ______________________________________________________________________________<br>                                     FINAL REPORT<br>     INDICATION:  Fever, evaluate for infiltrate.<br>     <br>     COMPARISON:  [**2879-5-25**].<br>     <br>     UPRIGHT AP CHEST:  This exam was performed at the bedside.  There is a right-<br>     sided central venous catheter seen terminating in the right atrium. There is<br>     mild cardiomegaly, unchanged.  The pulmonary vascular markings are again<br>     prominent, consistent with fluid overload.  There is <span style=\"color: orange;\">increased opacity within</span><br>     <span style=\"color: orange;\">the left lower lung</span>. <span style=\"color: orange;\">It is not clear if this is related to technique,</span><br>     <span style=\"color: orange;\">overlying soft tissue, or an underlying infiltrate</span>. There is no definite<br>     pleural effusion.  There is no pneumothorax. The osseous structures are<br>     unchanged.<br>     <br>     IMPRESSION:<br>     1)  Fluid overload vs. congestive failure.<br>     2)  <span style=\"color: orange;\">Possible developing left infiltrate</span>.<br><br> </p>"
      ],
      "text/plain": [
       "<IPython.core.display.HTML object>"
      ]
     },
     "metadata": {},
     "output_type": "display_data"
    }
   ],
   "source": [
    "if i<len(docs):\n",
    "    print (docs[i])\n",
    "\n",
    "    anno_doc=fn[docs[i]]\n",
    "\n",
    "    display(HTML(pneumonia_html_markup(anno_doc).replace('\\n', '<br>')))\n",
    "    \n",
    "    i+=1"
   ]
  },
  {
   "cell_type": "markdown",
   "metadata": {},
   "source": [
    "## 3. More efficient review:\n",
    "Not convenient to read? Let's try snippet view instead. Now we need to make another function to replace \"*pneumonia_html_markup*\". \n",
    "\n",
    "Although we measuring the document level annotation, we will focus on mention level (\"**SPAN_POSITIVE_PNEUMONIA_EVIDENCE**\") error analyses. Because the later is where the errors originate from.\n",
    "\n"
   ]
  },
  {
   "cell_type": "code",
   "execution_count": 29,
   "metadata": {
    "collapsed": true
   },
   "outputs": [],
   "source": [
    "\n",
    "def snippets_markup(annotated_doc_map):\n",
    "    html = [\"<html>\",\"<table width=100% >\",\n",
    "            \"<col style=\\\"width:25%\\\"><col style=\\\"width:75%\\\">\"\n",
    "            \"<tr><th style=\\\"text-align:center\\\">document name</th><th style=\\\"text-align:center\\\">Snippets</th>\"]\n",
    "    for doc_name, anno_doc in annotated_doc_map.items():\n",
    "        html.extend(snippet_markup(doc_name,anno_doc))\n",
    "    html.append(\"</table>\")\n",
    "    html.append(\"</html>\")\n",
    "    return ''.join(html) \n",
    "\n",
    "\n",
    "def snippet_markup(doc_name,anno_doc):\n",
    "    from pyConTextNLP.display.html import __sort_by_span\n",
    "    from pyConTextNLP.display.html import __insert_color\n",
    "    html=[]\n",
    "    color= 'blue'    \n",
    "    window_size=50    \n",
    "    html.append(\"<tr>\")\n",
    "    html.append(\"<td style=\\\"text-align:left\\\">{0}</td>\".format(doc_name))\n",
    "    html.append(\"<td></td>\")\n",
    "    html.append(\"</tr>\")\n",
    "    for anno in anno_doc.annotations:\n",
    "        if anno.type == 'SPAN_POSITIVE_PNEUMONIA_EVIDENCE':\n",
    "#           make sure the our snippet will be cut inside the text boundary\n",
    "            begin=anno.start_index-window_size\n",
    "            end=anno.end_index+window_size\n",
    "            begin=begin if begin>0 else 0\n",
    "            end=end if end<len(anno_doc.text) else len(anno_doc.text)    \n",
    "#           render a highlighted snippet\n",
    "            cell=__insert_color(anno_doc.text[begin:end],[anno.start_index-begin,anno.end_index-end],color)\n",
    "#           add the snippet into table\n",
    "            html.append(\"<tr>\")\n",
    "            html.append(\"<td></td>\")\n",
    "            html.append(\"<td style=\\\"text-align:left\\\">{0}</td>\".format(cell))\n",
    "            html.append(\"</tr>\") \n",
    "    return html"
   ]
  },
  {
   "cell_type": "markdown",
   "metadata": {},
   "source": [
    "Let's try it out:"
   ]
  },
  {
   "cell_type": "code",
   "execution_count": 32,
   "metadata": {
    "scrolled": false
   },
   "outputs": [
    {
     "data": {
      "text/html": [
       "<html><table width=100% ><col style=\"width:25%\"><col style=\"width:75%\"><tr><th style=\"text-align:center\">document name</th><th style=\"text-align:center\">Snippets</th><tr><td style=\"text-align:left\">subject_id_8734_hadm_id_8478</td><td></td></tr><tr><td></td><td style=\"text-align:left\">  Fluid overload vs. congestive failure.\n",
       "     2)  <span style=\"color: blue;\">Possible developing left infiltrate</span>.\n",
       "\n",
       "</td></tr><tr><td></td><td style=\"text-align:left\">minent, consistent with fluid overload.  There is <span style=\"color: blue;\">increased opacity within</span>\n",
       "     the left lower lung. It is not clear if this</td></tr><tr><td></td><td style=\"text-align:left\">overload.  There is increased opacity within\n",
       "     <span style=\"color: blue;\">the left lower lung</span>. It is not clear if this is related to technique,</td></tr><tr><td></td><td style=\"text-align:left\">ncreased opacity within\n",
       "     the left lower lung. <span style=\"color: blue;\">It is not clear if this is related to technique,</span>\n",
       "     overlying soft tissue, or an underlying infi</td></tr><tr><td></td><td style=\"text-align:left\">s not clear if this is related to technique,\n",
       "     <span style=\"color: blue;\">overlying soft tissue, or an underlying infiltrate</span>. There is no definite\n",
       "     pleural effusion.  The</td></tr><tr><td style=\"text-align:left\">subject_id_5472_hadm_id_11987</td><td></td></tr><tr><td></td><td style=\"text-align:left\">id SVC. \n",
       "     There is no apparent pneumothorax.  <span style=\"color: blue;\">A right IJ line, NGT, and ETT are</span>\n",
       "     unchanged as are the parenchymal changes in </td></tr><tr><td></td><td style=\"text-align:left\">mothorax.  A right IJ line, NGT, and ETT are\n",
       "     <span style=\"color: blue;\">unchanged as are the parenchymal changes in the lungs</span> compared to the earlier\n",
       "     chest x-ray this mor</td></tr><tr><td style=\"text-align:left\">subject_id_150_hadm_id_12121</td><td></td></tr><tr><td></td><td style=\"text-align:left\">es are\n",
       "     unremarkable.\n",
       "     \n",
       "     IMPRESSION:  <span style=\"color: blue;\">Small focal opacity in right upper lobe</span> and right paratracheal\n",
       "     opacity.  In the sett</td></tr><tr><td></td><td style=\"text-align:left\">CHEST PA AND LATERAL:  The heart size is normal.  <span style=\"color: blue;\">There is an area of</span>\n",
       "     increased opacity lateral to the right parat</td></tr><tr><td></td><td style=\"text-align:left\">e heart size is normal.  There is an area of\n",
       "     <span style=\"color: blue;\">increased opacity</span> lateral to the right paratracheal stripe.  In the</td></tr><tr><td></td><td style=\"text-align:left\">pacity lateral to the right paratracheal stripe.  <span style=\"color: blue;\">In the right</span>\n",
       "     upper lobe, there is a small focal opacity. </td></tr><tr><td></td><td style=\"text-align:left\">the right paratracheal stripe.  In the right\n",
       "     <span style=\"color: blue;\">upper lobe, there is a small focal opacity</span>.  The lungs are otherwise clear.\n",
       "     There are n</td></tr><tr><td style=\"text-align:left\">subject_id_261_hadm_id_19250</td><td></td></tr><tr><td></td><td style=\"text-align:left\">ignificant change compared with [**3197-12-9**].  <span style=\"color: blue;\">Bilateral pulmonary</span>\n",
       "     opacities involving the lower and mid lung z</td></tr><tr><td></td><td style=\"text-align:left\">d with [**3197-12-9**].  Bilateral pulmonary\n",
       "     <span style=\"color: blue;\">opacities</span> involving the lower and mid lung zones.\n",
       "\n",
       "</td></tr><tr><td></td><td style=\"text-align:left\">c\n",
       "     angle is not included in this radiograph.  <span style=\"color: blue;\">There is left lower lobe</span>\n",
       "     consolidation/collapse.  There is bilateral </td></tr><tr><td></td><td style=\"text-align:left\">n this radiograph.  There is left lower lobe\n",
       "     <span style=\"color: blue;\">consolidation/collapse</span>.  There is bilateral lower zone and mid zone\n",
       "    </td></tr><tr><td></td><td style=\"text-align:left\"> is left lower lobe\n",
       "     consolidation/collapse.  <span style=\"color: blue;\">There is bilateral lower zone and mid zone</span>\n",
       "     infiltrate.  The heart size is slightly enla</td></tr><tr><td></td><td style=\"text-align:left\">  There is bilateral lower zone and mid zone\n",
       "     <span style=\"color: blue;\">infiltrate</span>.  The heart size is slightly enlarged.\n",
       "     \n",
       "    </td></tr><tr><td style=\"text-align:left\">subject_id_9082_hadm_id_29395</td><td></td></tr><tr><td></td><td style=\"text-align:left\">tient with seizure.\n",
       "     \n",
       "     Low lung volumes.  <span style=\"color: blue;\">Bilateral basilar opacities,</span> considerably larger at the\n",
       "     left base than at</td></tr><tr><td></td><td style=\"text-align:left\">hyroid.\n",
       "     \n",
       "     IMPRESSION:  Lung volumes with <span style=\"color: blue;\">bilateral basilar opacities</span>.\n",
       "     \n",
       "     Question substernal thyroid enlargeme</td></tr><tr><td style=\"text-align:left\">subject_id_146_hadm_id_18965</td><td></td></tr><tr><td></td><td style=\"text-align:left\">al effusion.\n",
       "     Right CPA not included on film. <span style=\"color: blue;\">There is obscuration of left hemidiaphragm</span>\n",
       "     likely secondary to atelectasis/consolidatio</td></tr><tr><td></td><td style=\"text-align:left\">. There is obscuration of left hemidiaphragm\n",
       "     <span style=\"color: blue;\">likely secondary to atelectasis/consolidation</span> in left lower lobe.\n",
       "\n",
       "</td></tr><tr><td style=\"text-align:left\">subject_id_7675_hadm_id_3</td><td></td></tr><tr><td></td><td style=\"text-align:left\">r contours are stable\n",
       "     since the prior study. <span style=\"color: blue;\">There is persistent opacification in the right lower</span>\n",
       "     lung zone. The pulmonary vascularity is unre</td></tr><tr><td></td><td style=\"text-align:left\"> persistent opacification in the right lower\n",
       "     <span style=\"color: blue;\">lung zone</span>. The pulmonary vascularity is unremarkable. The e</td></tr><tr><td></td><td style=\"text-align:left\">terminating in the left IJ. No\n",
       "     pneumothorax. <span style=\"color: blue;\">Persistent right lower lung zone opacification</span> and probable\n",
       "     small effusion.\n",
       "\n",
       "</td></tr><tr><td style=\"text-align:left\">subject_id_6349_hadm_id_20192</td><td></td></tr><tr><td></td><td style=\"text-align:left\">There is no pulmonary vascular\n",
       "     engorgement.  <span style=\"color: blue;\">There is an increasing left-sided pleural effusion with</span>\n",
       "     associated atelectasis.  Pneumonia at this l</td></tr><tr><td></td><td style=\"text-align:left\"> increasing left-sided pleural effusion with\n",
       "     <span style=\"color: blue;\">associated atelectasis</span>.  Pneumonia at this location cannot be excluded. </td></tr><tr><td></td><td style=\"text-align:left\">eural effusion with\n",
       "     associated atelectasis.  <span style=\"color: blue;\">Pneumonia at this location cannot be excluded</span>.  Noted\n",
       "     is a density in the left upper lung </td></tr><tr><td style=\"text-align:left\">subject_id_7272_hadm_id_19098</td><td></td></tr><tr><td></td><td style=\"text-align:left\">rt failure with bilateral pleural effusions.\n",
       "     <span style=\"color: blue;\">Collapse and/or consolidation at the bases bilaterally</span>.\n",
       "\n",
       "</td></tr><tr><td></td><td style=\"text-align:left\">rall heart size is difficult to assess.  There is <span style=\"color: blue;\">dense retrocardiac</span>\n",
       "     opacity, possibly secondary to collapse and/</td></tr><tr><td></td><td style=\"text-align:left\">cult to assess.  There is dense retrocardiac\n",
       "     <span style=\"color: blue;\">opacity, possibly secondary to collapse and/or consolidation</span> in the left lower\n",
       "     lobe.  There is also a rig</td></tr><tr><td></td><td style=\"text-align:left\">ion in the left lower\n",
       "     lobe.  There is also a <span style=\"color: blue;\">right lower lobe and middle lobe opacity consistent</span>\n",
       "     with collapse and/or consolidation.\n",
       "     \n",
       "  </td></tr><tr><td></td><td style=\"text-align:left\">ower lobe and middle lobe opacity consistent\n",
       "     <span style=\"color: blue;\">with collapse and/or consolidation</span>.\n",
       "     \n",
       "     IMPRESSION: Persistent left heart fai</td></tr><tr><td style=\"text-align:left\">subject_id_7235_hadm_id_20012</td><td></td></tr><tr><td></td><td style=\"text-align:left\">fusion, both increased from [**2916-3-10**].\n",
       "     <span style=\"color: blue;\">2</span>.  Increase in size and density of retrocardiac op</td></tr><tr><td></td><td style=\"text-align:left\">on, both increased from [**2916-3-10**].\n",
       "     2.  <span style=\"color: blue;\">Increase in size and density of retrocardiac opacity, which may be</span>\n",
       "     related to technical differences, but this a</td></tr><tr><td></td><td style=\"text-align:left\">ensity of retrocardiac opacity, which may be\n",
       "     <span style=\"color: blue;\">related to technical differences, but this area remains suspicious for</span>\n",
       "     underlying consolidation or atelectasis.\n",
       "\n",
       "</td></tr><tr><td></td><td style=\"text-align:left\">rences, but this area remains suspicious for\n",
       "     <span style=\"color: blue;\">underlying consolidation or atelectasis</span>.\n",
       "\n",
       "</td></tr><tr><td></td><td style=\"text-align:left\">pleural effusion has also increased in\n",
       "     size. <span style=\"color: blue;\">Retrocardiac opacity is also increased,</span> and although positional\n",
       "     differences may acco</td></tr><tr><td></td><td style=\"text-align:left\">es may account for some of the increased opacity, <span style=\"color: blue;\">this area remains</span>\n",
       "     suspicious for an area of focal consolidatio</td></tr><tr><td></td><td style=\"text-align:left\"> of the increased opacity, this area remains\n",
       "     <span style=\"color: blue;\">suspicious for an area of focal consolidation</span>.\n",
       "     \n",
       "     IMPRESSION:\n",
       "     1.  Moderate sized l</td></tr><tr><td style=\"text-align:left\">subject_id_157_hadm_id_26180</td><td></td></tr><tr><td></td><td style=\"text-align:left\">ung is incompletely imaged\n",
       "     on this study and <span style=\"color: blue;\">there is a questionable area of abnormality partially</span>\n",
       "     obscuring the mid portion of the right hemid</td></tr><tr><td></td><td style=\"text-align:left\">a questionable area of abnormality partially\n",
       "     <span style=\"color: blue;\">obscuring the mid portion of the right hemidiaphragm</span>, incompletely evaluated.\n",
       "     \n",
       "     IMPRESSION:  </td></tr><tr><td style=\"text-align:left\">subject_id_5562_hadm_id_26996</td><td></td></tr><tr><td></td><td style=\"text-align:left\">\n",
       "     FINDINGS:  Compared with the study of 9/19, <span style=\"color: blue;\">there has been further interval</span>\n",
       "     consolidation of the right mid lung infiltra</td></tr><tr><td></td><td style=\"text-align:left\">udy of 9/19, there has been further interval\n",
       "     <span style=\"color: blue;\">consolidation of the right mid lung infiltrate</span>.\n",
       "     \n",
       "     Otherwise, no obvious significant int</td></tr><tr><td style=\"text-align:left\">subject_id_8494_hadm_id_20131</td><td></td></tr><tr><td></td><td style=\"text-align:left\">lung and right mediastinal\n",
       "     lymphadenopathy.  <span style=\"color: blue;\">Patchy opacities are seen throughout the right lung which</span>\n",
       "     could be due to atelectasis from compression</td></tr><tr><td></td><td style=\"text-align:left\">ies are seen throughout the right lung which\n",
       "     <span style=\"color: blue;\">could be due to atelectasis from compression of the right lung or represent</span>\n",
       "     air space consolidation.  An ET tube is iden</td></tr><tr><td></td><td style=\"text-align:left\">m compression of the right lung or represent\n",
       "     <span style=\"color: blue;\">air space consolidation</span>.  An ET tube is identified with tip 6.3 cm from t</td></tr><tr><td style=\"text-align:left\">subject_id_5144_hadm_id_31918</td><td></td></tr><tr><td></td><td style=\"text-align:left\">radiograph, without comparison, demonstrates\n",
       "     <span style=\"color: blue;\">confluent opacities with air bronchograms in the lower lungs</span>, possibly\n",
       "     secondary to aspiration. The ETT i</td></tr><tr><td style=\"text-align:left\">subject_id_7525_hadm_id_19141</td><td></td></tr><tr><td></td><td style=\"text-align:left\">n distal superior vena cava, unchanged.  There is <span style=\"color: blue;\">marked</span>\n",
       "     improvement of the bilateral consolidations,</td></tr><tr><td></td><td style=\"text-align:left\">erior vena cava, unchanged.  There is marked\n",
       "     <span style=\"color: blue;\">improvement of the bilateral consolidations</span>, especially on the right. The NG\n",
       "     tube tip is</td></tr><tr><td style=\"text-align:left\">subject_id_7027_hadm_id_33117</td><td></td></tr><tr><td></td><td style=\"text-align:left\">ossibility of free\n",
       "     intraperitoneal air.\n",
       "     <span style=\"color: blue;\">2) Left lower lobe atelectasis/consolidation</span>.\n",
       "     3) Moderate gastric distention with multipl</td></tr><tr><td></td><td style=\"text-align:left\">stinal and hilar contours are\n",
       "     unremarkable.  <span style=\"color: blue;\">There is patchy opacity at the left lower lobe representing</span>\n",
       "     either atelectasis or consolidation.  No def</td></tr><tr><td></td><td style=\"text-align:left\"> opacity at the left lower lobe representing\n",
       "     <span style=\"color: blue;\">either atelectasis or consolidation</span>.  No definite free air is identified,\n",
       "     howeve</td></tr></table></html>"
      ],
      "text/plain": [
       "<IPython.core.display.HTML object>"
      ]
     },
     "metadata": {},
     "output_type": "display_data"
    }
   ],
   "source": [
    "display(HTML(snippets_markup(fn)))"
   ]
  },
  {
   "cell_type": "markdown",
   "metadata": {},
   "source": [
    "## 4. Now what?"
   ]
  }
 ],
 "metadata": {
  "kernelspec": {
   "display_name": "Python 3",
   "language": "python",
   "name": "python3"
  },
  "language_info": {
   "codemirror_mode": {
    "name": "ipython",
    "version": 3
   },
   "file_extension": ".py",
   "mimetype": "text/x-python",
   "name": "python",
   "nbconvert_exporter": "python",
   "pygments_lexer": "ipython3",
   "version": "3.5.2"
  }
 },
 "nbformat": 4,
 "nbformat_minor": 2
}
