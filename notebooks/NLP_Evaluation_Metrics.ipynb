{
 "cells": [
  {
   "cell_type": "markdown",
   "metadata": {},
   "source": [
    "# Objectives:\n",
    "* Understand standard metrics to use in classification\n",
    "* Define Precision, Recall, F1 measure the the relationship between them\n",
    "* Define terms like Training Set, Evaluation Set and Holdout set"
   ]
  },
  {
   "cell_type": "code",
   "execution_count": 2,
   "metadata": {
    "collapsed": true
   },
   "outputs": [],
   "source": [
    "from IPython.display import HTML"
   ]
  },
  {
   "cell_type": "markdown",
   "metadata": {},
   "source": [
    "# The first thing we need to do is to define True Positives, False Positives, False Negatives, etc.  This is essential for defining the metrics we will use.  This example relates to disease but these concepts are used for all classification analytics including:\n",
    "* Disease prediction\n",
    "* Spam filtering\n",
    "* Fraud detection\n",
    "* Image recognition\n",
    "* etc...\n",
    "\n",
    "## This video from USMLE Biostatistics illustrates these concepts in terms of disease and medical informatics:"
   ]
  },
  {
   "cell_type": "code",
   "execution_count": 5,
   "metadata": {
    "collapsed": false
   },
   "outputs": [
    {
     "data": {
      "text/html": [
       "<div style=\"position:relative;height:0;padding-bottom:56.25%\"><iframe src=\"https://www.youtube.com/embed/VAogHvCqf3E?ecver=2\"width=\"500\" height=\"280\" frameborder=\"0\" style=\"position:absolute;width:100%;height:100%;left:0\" allowfullscreen></iframe></div>"
      ],
      "text/plain": [
       "<IPython.core.display.HTML object>"
      ]
     },
     "execution_count": 5,
     "metadata": {},
     "output_type": "execute_result"
    }
   ],
   "source": [
    "# NOTE : Try to show this video : https://www.youtube.com/watch?v=VAogHvCqf3E\n",
    "HTML('<div style=\"position:relative;height:0;padding-bottom:56.25%\"><iframe src=\"https://www.youtube.com/embed/VAogHvCqf3E?ecver=2\"'\\\n",
    "     'width=\"500\" height=\"280\" frameborder=\"0\" style=\"position:absolute;width:100%;height:100%;left:0\" allowfullscreen></iframe></div>')"
   ]
  },
  {
   "cell_type": "markdown",
   "metadata": {},
   "source": [
    "# Now that we have a solid definition of True Positives, False Positives, and this 2x2 grid we can establish the metrics of Precision, Recall and F1 measure.\n",
    "## Christopher Manning is an outstanding researcher and professor in Natural Language Processing.  In this video, he explains how we translate our counts of TP, FP, TN, FN into these values we can use to optimize our solutions:"
   ]
  },
  {
   "cell_type": "code",
   "execution_count": 6,
   "metadata": {
    "collapsed": false
   },
   "outputs": [
    {
     "data": {
      "text/html": [
       "<div style=\"position:relative;height:0;padding-bottom:56.25%\"><iframe src=\"https://www.youtube.com/embed/2akd6uwtowc?ecver=2\" width=\"500\" height=\"280\" frameborder=\"0\" style=\"position:absolute;width:100%;height:100%;left:0\" allowfullscreen></iframe></div>"
      ],
      "text/plain": [
       "<IPython.core.display.HTML object>"
      ]
     },
     "execution_count": 6,
     "metadata": {},
     "output_type": "execute_result"
    }
   ],
   "source": [
    "# NOTE : Try to show this video : https://www.youtube.com/watch?v=VAogHvCqf3E\n",
    "HTML('<div style=\"position:relative;height:0;padding-bottom:56.25%\"><iframe src=\"https://www.youtube.com/embed/2akd6uwtowc?ecver=2\" '\\\n",
    "     'width=\"500\" height=\"280\" frameborder=\"0\" style=\"position:absolute;width:100%;height:100%;left:0\" allowfullscreen></iframe></div>')"
   ]
  },
  {
   "cell_type": "markdown",
   "metadata": {},
   "source": [
    "# In this course on rule-based NLP methods for identifying cases of pneumonia, we will be working in groups to develop rules to improve classification of pneumonia based on radiology text report from chest x-rays.\n",
    "\n",
    "# The way that we will optimize performance is by F1 measure.  This means that Precision and Recall will both be important as F1 is the harmonic mean between them."
   ]
  },
  {
   "cell_type": "code",
   "execution_count": 8,
   "metadata": {
    "collapsed": false
   },
   "outputs": [
    {
     "data": {
      "text/html": [
       "<div><p>Source : Wikipedia</p><p><img src=https://wikimedia.org/api/rest_v1/media/math/render/svg/7d63c1f5c659f95b5dfe5893213cc8ea7f8bea0a></p>"
      ],
      "text/plain": [
       "<IPython.core.display.HTML object>"
      ]
     },
     "execution_count": 8,
     "metadata": {},
     "output_type": "execute_result"
    }
   ],
   "source": [
    "HTML('<div><p>Source : Wikipedia</p><p><img src=https://wikimedia.org/api/rest_v1/media/math/render/svg/7d63c1f5c659f95b5dfe5893213cc8ea7f8bea0a></p>')"
   ]
  },
  {
   "cell_type": "markdown",
   "metadata": {},
   "source": [
    "# Before we conclude, it's useful to illustrate examples in the literature where different terms may be used to define the same mathematical concept.\n",
    "\n",
    "# This chart from Wikipedia outlines how these metrics all relate.  While we will be focusing on Precision, Recall and F1, it's useful to see how these interact since often clinicians may use other terms like Sensitivity and Specifity.  Some of such terms actually mean the same thing as Precision and Recall.  Specifically, Sensitivity is the same as Recall.  Precision is often called Positive Predictive Value (PPV):"
   ]
  },
  {
   "cell_type": "code",
   "execution_count": 11,
   "metadata": {
    "collapsed": false
   },
   "outputs": [
    {
     "data": {
      "text/html": [
       "<div><p>Source : Wikipedia</p><p><img src=classification_metrics.jpg></p>"
      ],
      "text/plain": [
       "<IPython.core.display.HTML object>"
      ]
     },
     "execution_count": 11,
     "metadata": {},
     "output_type": "execute_result"
    }
   ],
   "source": [
    "HTML('<div><p>Source : Wikipedia</p><p><img src=classification_metrics.jpg></p>')"
   ]
  }
 ],
 "metadata": {
  "kernelspec": {
   "display_name": "Python 3",
   "language": "python",
   "name": "python3"
  },
  "language_info": {
   "codemirror_mode": {
    "name": "ipython",
    "version": 3
   },
   "file_extension": ".py",
   "mimetype": "text/x-python",
   "name": "python",
   "nbconvert_exporter": "python",
   "pygments_lexer": "ipython3",
   "version": "3.5.3"
  }
 },
 "nbformat": 4,
 "nbformat_minor": 0
}
